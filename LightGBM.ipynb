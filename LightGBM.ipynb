{
  "nbformat": 4,
  "nbformat_minor": 0,
  "metadata": {
    "colab": {
      "name": "LightGBM.ipynb",
      "version": "0.3.2",
      "provenance": [],
      "collapsed_sections": [],
      "include_colab_link": true
    },
    "kernelspec": {
      "name": "python3",
      "display_name": "Python 3"
    },
    "accelerator": "GPU"
  },
  "cells": [
    {
      "cell_type": "markdown",
      "metadata": {
        "id": "view-in-github",
        "colab_type": "text"
      },
      "source": [
        "<a href=\"https://colab.research.google.com/github/3wweiweiwu/ShiftAI/blob/master/LightGBM.ipynb\" target=\"_parent\"><img src=\"https://colab.research.google.com/assets/colab-badge.svg\" alt=\"Open In Colab\"/></a>"
      ]
    },
    {
      "cell_type": "code",
      "metadata": {
        "id": "qJaZcMHxdQNK",
        "colab_type": "code",
        "colab": {}
      },
      "source": [
        "# !git clone --recursive https://github.com/Microsoft/LightGBM\n",
        "# %cd /content/LightGBM\n",
        "# !mkdir build\n",
        "# !cmake -DUSE_GPU=1\n",
        "# !make -j$(nproc)\n",
        "# !sudo apt-get -y install python-pip\n",
        "# !sudo -H pip install setuptools pandas numpy scipy scikit-learn -U\n",
        "# %cd /content/LightGBM/python-package\n",
        "# !sudo python setup.py install --precompile"
      ],
      "execution_count": 0,
      "outputs": []
    },
    {
      "cell_type": "code",
      "metadata": {
        "id": "7TO_xLeCc5sX",
        "colab_type": "code",
        "colab": {}
      },
      "source": [
        "import pandas as pd\n",
        "import numpy as np\n",
        "import matplotlib.pyplot as plt\n",
        "from sklearn.linear_model import LogisticRegression\n",
        "from sklearn.model_selection import cross_val_score\n",
        "from bs4 import BeautifulSoup\n",
        "from sklearn.feature_extraction.text import CountVectorizer, TfidfVectorizer\n",
        "from sklearn.model_selection import train_test_split\n",
        "import re, string,pickle\n",
        "from scipy import sparse\n",
        "import lightgbm as lgb\n",
        "from sklearn import metrics\n",
        "from sklearn.model_selection import cross_val_score, StratifiedKFold\n",
        "from sklearn.metrics import accuracy_score,mean_absolute_error,median_absolute_error"
      ],
      "execution_count": 0,
      "outputs": []
    },
    {
      "cell_type": "code",
      "metadata": {
        "id": "iJEI5709ewgI",
        "colab_type": "code",
        "outputId": "31fe41d1-682b-4ed5-8d2d-ebfc92f245b3",
        "colab": {
          "base_uri": "https://localhost:8080/",
          "height": 122
        }
      },
      "source": [
        "from google.colab import drive\n",
        "drive.mount('/content/gdrive',force_remount=True)"
      ],
      "execution_count": 0,
      "outputs": [
        {
          "output_type": "stream",
          "text": [
            "Go to this URL in a browser: https://accounts.google.com/o/oauth2/auth?client_id=947318989803-6bn6qk8qdgf4n4g3pfee6491hc0brc4i.apps.googleusercontent.com&redirect_uri=urn%3Aietf%3Awg%3Aoauth%3A2.0%3Aoob&scope=email%20https%3A%2F%2Fwww.googleapis.com%2Fauth%2Fdocs.test%20https%3A%2F%2Fwww.googleapis.com%2Fauth%2Fdrive%20https%3A%2F%2Fwww.googleapis.com%2Fauth%2Fdrive.photos.readonly%20https%3A%2F%2Fwww.googleapis.com%2Fauth%2Fpeopleapi.readonly&response_type=code\n",
            "\n",
            "Enter your authorization code:\n",
            "··········\n",
            "Mounted at /content/gdrive\n"
          ],
          "name": "stdout"
        }
      ]
    },
    {
      "cell_type": "code",
      "metadata": {
        "id": "wr930ydT_2jH",
        "colab_type": "code",
        "colab": {}
      },
      "source": [
        "from abc import ABC, abstractmethod,abstractproperty,abstractstaticmethod\n",
        "\n",
        "class COLUMN_Interface(object):\n",
        "    __metaclass__ = ABCMeta\n",
        "\n",
        "    @classmethod\n",
        "    def version(self): return \"1.0\"\n",
        "    \n",
        "    @classmethod\n",
        "    def Validate_Column_Name(self,df):\n",
        "      if self.column_name not in df.columns:\n",
        "        raise Exception('Cannot find column name '+self.column_name+' from '+df.columns)\n",
        "    @abstractproperty\n",
        "    def Prosess(self,df):\n",
        "      raise NotImplementedError\n",
        "      \n",
        "    def _Treat_NA(self,df):\n",
        "      raise NotImplementedError\n",
        "        \n",
        "    @abstractproperty\n",
        "    @abstractmethod\n",
        "    def na_treatment_list():\n",
        "        raise NotImplementedError        \n",
        "        \n",
        "    @abstractmethod\n",
        "    def __init__(self, COLUMN_NAME, COLUMN_DATA_TYPE,NA_TREATMENT_TYPE):\n",
        "        if(NA_TREATMENT_TYPE not in self.na_treatment_list):\n",
        "          raise Exception('Unknown NA Treatment '+NA_TREATMENT_TYPE+' for coulmn')\n",
        "        self.column_data_type = COLUMN_DATA_TYPE\n",
        "        self.na_treatment_type = NA_TREATMENT_TYPE\n",
        "        self.column_name=COLUMN_NAME\n",
        "      \n",
        "    \n"
      ],
      "execution_count": 0,
      "outputs": []
    },
    {
      "cell_type": "code",
      "metadata": {
        "id": "mpSEvi9P_exd",
        "colab_type": "code",
        "outputId": "5dc364ea-a645-4f0e-efce-61c99cfe984c",
        "colab": {
          "base_uri": "https://localhost:8080/",
          "height": 129
        }
      },
      "source": [
        "class TextColumn(COLUMN_Interface):\n",
        "\n",
        "  \n",
        "  NA_REMOVE = 'Remoe'\n",
        "  NA_EMPTY = 'EMPTY'\n",
        "  na_treatment_list=[NA_REMOVE,NA_EMPTY]\n",
        "  def Process(self,df):\n",
        "    self.Validate_Column_Name(df) \n",
        "    pass\n",
        "  def _Remove_Na_Row(df):\n",
        "    df=df.dropna(axis=0,subset=[self.column_name])\n",
        "  def _Fill_Na_With_Empty(df):\n",
        "    df[[self.column_name]]=df[[self.column_name]].fillna(value='')\n",
        "  \n",
        "  def _Treat_NA(self,df):\n",
        "    methods = {NA_REMOVE:_Remove_Na_Row,NA_EMPTY:_Fill_Na_With_Empty}\n",
        "    pass"
      ],
      "execution_count": 0,
      "outputs": [
        {
          "output_type": "error",
          "ename": "SyntaxError",
          "evalue": "ignored",
          "traceback": [
            "\u001b[0;36m  File \u001b[0;32m\"<ipython-input-62-5d7980521b2e>\"\u001b[0;36m, line \u001b[0;32m16\u001b[0m\n\u001b[0;31m    if (self.column_name)\u001b[0m\n\u001b[0m                         ^\u001b[0m\n\u001b[0;31mSyntaxError\u001b[0m\u001b[0;31m:\u001b[0m invalid syntax\n"
          ]
        }
      ]
    },
    {
      "cell_type": "code",
      "metadata": {
        "id": "xp575EYeBfWW",
        "colab_type": "code",
        "outputId": "a64e5223-c201-44ff-a302-d87cf2886450",
        "colab": {
          "base_uri": "https://localhost:8080/",
          "height": 34
        }
      },
      "source": [
        "s1='hello'\n",
        "s2={s1:'world'}\n",
        "s2"
      ],
      "execution_count": 0,
      "outputs": [
        {
          "output_type": "execute_result",
          "data": {
            "text/plain": [
              "{'hello': 'world'}"
            ]
          },
          "metadata": {
            "tags": []
          },
          "execution_count": 64
        }
      ]
    },
    {
      "cell_type": "code",
      "metadata": {
        "id": "A79CRuuCfGLf",
        "colab_type": "code",
        "outputId": "e4efe834-22a3-43bf-c709-9b132050124c",
        "colab": {
          "base_uri": "https://localhost:8080/",
          "height": 51
        }
      },
      "source": [
        "import pandas as pd\n",
        "import numpy as np\n",
        "from bs4 import BeautifulSoup\n",
        "import re\n",
        "import nltk\n",
        "nltk.download('stopwords')\n",
        "from nltk.corpus import stopwords\n",
        "from nltk.stem import SnowballStemmer\n",
        "\n",
        "\n",
        "def text_to_wordlist(text, remove_stopwords=False, stem_words=False, remove_num=False,remove_spec_cha=False):\n",
        "    # Clean the text, with the option to remove stopwords and to stem words.\n",
        "\n",
        "    # Convert words to lower case and split them\n",
        "    text = text.lower().split()\n",
        "\n",
        "    # Optionally, remove stop words\n",
        "    if remove_stopwords:\n",
        "        stops = set(stopwords.words(\"english\"))\n",
        "        text = [w for w in text if not w in stops]\n",
        "    \n",
        "    text = \" \".join(text)\n",
        "    if remove_num:\n",
        "      replace_numbers=re.compile(r'\\d+',re.IGNORECASE)\n",
        "      text=replace_numbers.sub('n',text)\n",
        "    \n",
        "    if remove_spec_cha:\n",
        "        special_chacter_removal=re.compile(r'[^a-z\\d ]',re.IGNORECASE)\n",
        "        text=special_chacter_removal.sub(' ',text)    \n",
        "\n",
        "\n",
        "    # Optionally, shorten words to their stems\n",
        "    if stem_words:\n",
        "        text = text.split()\n",
        "        stemmer = SnowballStemmer('english')\n",
        "        stemmed_words = [stemmer.stem(word) for word in text]\n",
        "        text = \" \".join(stemmed_words)\n",
        "    \n",
        "    # Return a list of words\n",
        "    return(text)\n",
        "\n",
        "\n",
        "def updateDf(df,enc_severity,enc_DefectType,isProductSpecific=False):\n",
        "    #examine the data and ensure everything is correct\n",
        "    df['Area Path']=df['Area Path'].astype('str')\n",
        "    df['Title']=df['Title'].astype('str')\n",
        "    df['Defect Type']=df['Defect Type']=df['Defect Type'].astype('str').str.lower()\n",
        "\n",
        "    df['Submitted Date']=df['Submitted Date'].astype('str').apply(lambda str:str[0:24])\n",
        "    df['Submitted Date']=pd.to_datetime(df['Submitted Date'])\n",
        "    df['Submitter']=df['Submitter'].astype('str')\n",
        "    df['Defect Priority']=df['Defect Priority'].astype('str')\n",
        "    df['Defect Severity']=df['Defect Severity'].astype('str')\n",
        "    df['Repro Steps']=df['Repro Steps'].astype('str')\n",
        "    \n",
        "    #get rid of data without severity info as they are useless\n",
        "    df=df[df['Defect Severity']!='nan']\n",
        "    df=df[df['Defect Severity']!='To be set at Review']\n",
        "    \n",
        "    #encode the severity\n",
        "    df['icat']=enc_severity.transform(df['Defect Severity'].values.reshape(-1,1))\n",
        "    \n",
        "    \n",
        "    #encode the defect type\n",
        "\n",
        "    df['iDefectType']=enc_DefectType.transform(df['Defect Type'].values.reshape(-1,1))\n",
        "    \n",
        "    #these 2 fields are for family specific tunning. Comment out these for right now\n",
        "    if(isProductSpecific):\n",
        "        df['iSubmitter']=df['Submitter'].astype('category').cat.codes\n",
        "        df['iarea']=df['Area Path'].astype('category').cat.codes\n",
        "        df['iPriority']=df['Defect Priority'].astype('category').cat.codes\n",
        "        df['iAssigned']=df['Assigned To'].astype('category').cat.codes\n",
        "        \n",
        "    \n",
        "    \n",
        "    \n",
        "    #get rid of scopus defect as they are too noisy\n",
        "    df=df[~df['Repro Steps'].str.contains('Scopus_Incident')]\n",
        "\n",
        "\n",
        "\n",
        "    #use regular expression to get rid of ==== State: Submitted by: Stella_Zhao on 29 December 2015 04:02:58 ==== pattern\n",
        "\n",
        "    pattern=r\"==== State.*?====\"\n",
        "    df['Repro Steps']=df['Repro Steps'].astype('str').apply(lambda str:re.sub(pattern,'',str))\n",
        "\n",
        "    #use beautiful soap to get rid of html tags\n",
        "\n",
        "    df['Repro Steps']=df['Repro Steps'].astype('str').apply(lambda str:BeautifulSoup(str, \"lxml\").text)\n",
        "    df['Repro Steps']=df['Repro Steps'].astype('str').apply(lambda str:text_to_wordlist(str,True,True,True,True))\n",
        "    df['Title']=df['Title'].astype('str').apply(lambda str:text_to_wordlist(str,True,True,True,True))\n",
        "\n",
        "    return df"
      ],
      "execution_count": 0,
      "outputs": [
        {
          "output_type": "stream",
          "text": [
            "[nltk_data] Downloading package stopwords to /root/nltk_data...\n",
            "[nltk_data]   Unzipping corpora/stopwords.zip.\n"
          ],
          "name": "stdout"
        }
      ]
    },
    {
      "cell_type": "code",
      "metadata": {
        "id": "pxCJXvkQfQy9",
        "colab_type": "code",
        "colab": {}
      },
      "source": [
        "import pandas as pd\n",
        "import numpy as np\n",
        "from bs4 import BeautifulSoup\n",
        "import re\n",
        "import nltk\n",
        "#nltk.download('stopwords')\n",
        "from nltk.corpus import stopwords\n",
        "from nltk.stem import SnowballStemmer\n",
        "\n",
        "\n",
        "def text_to_wordlist(text, remove_stopwords=False, stem_words=False, remove_num=False,remove_spec_cha=False):\n",
        "    # Clean the text, with the option to remove stopwords and to stem words.\n",
        "\n",
        "    # Convert words to lower case and split them\n",
        "    text = text.lower().split()\n",
        "\n",
        "    # Optionally, remove stop words\n",
        "    if remove_stopwords:\n",
        "        stops = set(stopwords.words(\"english\"))\n",
        "        text = [w for w in text if not w in stops]\n",
        "    \n",
        "    text = \" \".join(text)\n",
        "    if remove_num:\n",
        "      replace_numbers=re.compile(r'\\d+',re.IGNORECASE)\n",
        "      text=replace_numbers.sub('n',text)\n",
        "    \n",
        "    if remove_spec_cha:\n",
        "        special_chacter_removal=re.compile(r'[^a-z\\d ]',re.IGNORECASE)\n",
        "        text=special_chacter_removal.sub(' ',text)    \n",
        "\n",
        "\n",
        "    # Optionally, shorten words to their stems\n",
        "    if stem_words:\n",
        "        text = text.split()\n",
        "        stemmer = SnowballStemmer('english')\n",
        "        stemmed_words = [stemmer.stem(word) for word in text]\n",
        "        text = \" \".join(stemmed_words)\n",
        "    \n",
        "    # Return a list of words\n",
        "    return(text)\n",
        "\n",
        "\n",
        "def updateDf(df,enc_severity,enc_DefectType,isProductSpecific=False):\n",
        "    #examine the data and ensure everything is correct\n",
        "    df['Area Path']=df['Area Path'].astype('str')\n",
        "    df['Title']=df['Title'].astype('str')\n",
        "    df['Defect Type']=df['Defect Type']=df['Defect Type'].astype('str').str.lower()\n",
        "\n",
        "    df['Submitted Date']=df['Submitted Date'].astype('str').apply(lambda str:str[0:24])\n",
        "    df['Submitted Date']=pd.to_datetime(df['Submitted Date'])\n",
        "    df['Submitter']=df['Submitter'].astype('str')\n",
        "    df['Defect Priority']=df['Defect Priority'].astype('str')\n",
        "    df['Defect Severity']=df['Defect Severity'].astype('str')\n",
        "    df['Repro Steps']=df['Repro Steps'].astype('str')\n",
        "    \n",
        "    #get rid of data without severity info as they are useless\n",
        "    df=df[df['Defect Severity']!='nan']\n",
        "    df=df[df['Defect Severity']!='To be set at Review']\n",
        "    \n",
        "    #encode the severity\n",
        "    df['icat']=enc_severity.transform(df['Defect Severity'].values.reshape(-1,1))\n",
        "    \n",
        "    \n",
        "    #encode the defect type\n",
        "\n",
        "    df['iDefectType']=enc_DefectType.transform(df['Defect Type'].values.reshape(-1,1))\n",
        "    \n",
        "    #these 2 fields are for family specific tunning. Comment out these for right now\n",
        "    if(isProductSpecific):\n",
        "        df['iSubmitter']=df['Submitter'].astype('category').cat.codes\n",
        "        df['iarea']=df['Area Path'].astype('category').cat.codes\n",
        "        df['iPriority']=df['Defect Priority'].astype('category').cat.codes\n",
        "        df['iAssigned']=df['Assigned To'].astype('category').cat.codes\n",
        "        \n",
        "    \n",
        "    \n",
        "    \n",
        "    #get rid of scopus defect as they are too noisy\n",
        "    df=df[~df['Repro Steps'].str.contains('Scopus_Incident')]\n",
        "\n",
        "\n",
        "\n",
        "    #use regular expression to get rid of ==== State: Submitted by: Stella_Zhao on 29 December 2015 04:02:58 ==== pattern\n",
        "\n",
        "    pattern=r\"==== State.*?====\"\n",
        "    df['Repro Steps']=df['Repro Steps'].astype('str').apply(lambda str:re.sub(pattern,'',str))\n",
        "\n",
        "    #use beautiful soap to get rid of html tags\n",
        "\n",
        "    df['Repro Steps']=df['Repro Steps'].astype('str').apply(lambda str:BeautifulSoup(str, \"lxml\").text)\n",
        "    df['Repro Steps']=df['Repro Steps'].astype('str').apply(lambda str:text_to_wordlist(str,True,True,True,True))\n",
        "    df['Title']=df['Title'].astype('str').apply(lambda str:text_to_wordlist(str,True,True,True,True))\n",
        "\n",
        "    return df"
      ],
      "execution_count": 0,
      "outputs": []
    },
    {
      "cell_type": "code",
      "metadata": {
        "id": "2-9nZeFyfVU1",
        "colab_type": "code",
        "colab": {}
      },
      "source": [
        "import re,string\n",
        "from sklearn.feature_extraction.text import CountVectorizer, TfidfVectorizer\n",
        "import numpy as np\n",
        "class NB:\n",
        "    def __init__(self):\n",
        "        self.r=None\n",
        "        re_tok = re.compile(f'([{string.punctuation}“”¨«»®´·º½¾¿¡§£₤‘’])')\n",
        "        def tokenize(s): return re_tok.sub(r' \\1 ', s).split()            \n",
        "        self.vec = TfidfVectorizer(ngram_range=(1,2), tokenizer=tokenize,\n",
        "                min_df=3, max_df=0.9, strip_accents='unicode', use_idf=1,\n",
        "                smooth_idf=1, sublinear_tf=1 )\n",
        "    def _pr(self,y_i, y,x):\n",
        "        p = x[y==y_i].sum(0)\n",
        "        return (p+1) / ((y==y_i).sum()+1)\n",
        "    def _compute_r(self,trn_term_doc,y_train):\n",
        "        return np.log(self._pr(1,y_train,trn_term_doc) / self._pr(0,y_train,trn_term_doc))\n",
        "    def fit_transform(self,trn_term_doc,y_train):        \n",
        "        trn_term_doc=self.vec.fit_transform(trn_term_doc)\n",
        "        self.r=self._compute_r(trn_term_doc,y_train)\n",
        "        trn_term_doc=trn_term_doc.multiply(self.r)\n",
        "        return trn_term_doc\n",
        "    def transform(self,test_term_doc):\n",
        "        test_term_doc=self.vec.transform(test_term_doc)        \n",
        "        return test_term_doc.multiply(self.r)\n",
        "    \n",
        "\n",
        "    \n",
        "        "
      ],
      "execution_count": 0,
      "outputs": []
    },
    {
      "cell_type": "code",
      "metadata": {
        "id": "kzYefXYrfjVX",
        "colab_type": "code",
        "colab": {}
      },
      "source": [
        "from sklearn import preprocessing\n",
        "import numpy as np\n",
        "class Encoder:\n",
        "    @staticmethod\n",
        "    def SeverityEncoder():\n",
        "        enc_severity = preprocessing.OrdinalEncoder()\n",
        "        enc_severity.fit(np.array(['S3-Medium', 'S4-Minor', 'S2-Major', 'S1-Critical','S5-Insignificant']).reshape(-1, 1))\n",
        "        return enc_severity\n",
        "    @staticmethod\n",
        "    def DefectTypeEncoder():\n",
        "        enc_DefectType = preprocessing.OrdinalEncoder()\n",
        "        problemTypes=['Incorrect Algorithm', 'Does Not Work As Designed', 'Data Loss',\n",
        "            'Cosmetic', 'Crash/Freeze', 'Poor Performance', 'Integration',\n",
        "            'Functionality Loss', 'Internationalization', 'Data Corruption',\n",
        "            'Question', 'Documentation', 'Enhancement', 'internationalization',\n",
        "            'UX', 'Inspection', 'Security', 'Installation','nan']\n",
        "        problemTypes=[item.lower() for item in problemTypes]\n",
        "        enc_DefectType.fit(np.array(problemTypes).reshape(-1, 1))        \n",
        "        return enc_DefectType\n",
        "    @staticmethod\n",
        "    def DefectPriorityEncoder():\n",
        "        enc_DefectType = preprocessing.OrdinalEncoder()\n",
        "        enc_DefectType.fit(np.array(['3-High', '2-Critical', '4-Medium', '5-Low', '1-Show Stopper','nan']).reshape(-1, 1))        \n",
        "        return enc_DefectType"
      ],
      "execution_count": 0,
      "outputs": []
    },
    {
      "cell_type": "code",
      "metadata": {
        "id": "DVlfTQcAe7jN",
        "colab_type": "code",
        "colab": {}
      },
      "source": [
        "dataPath='./gdrive/My Drive/data'\n",
        "glovePath='./gdrive/My Drive/glove'\n",
        "EMBEDDING_FILE=f'{glovePath}/glove.6B.300d.txt'\n",
        "# DATA_FILE=f'{dataPath}/HYSYS Defect Priority Query.csv'\n",
        "DATA_FILE=f'{dataPath}/Aspen Plus Defect Priority Query.csv'\n",
        "# DATA_FILE=f'{dataPath}/APM Defect Priority Query.csv'\n",
        "# DATA_FILE=f'{dataPath}/MES.csv'\n",
        "# DATA_FILE=f'{dataPath}/AES.csv'\n",
        "MODEL_PATH='./gdrive/My Drive/Model'"
      ],
      "execution_count": 0,
      "outputs": []
    },
    {
      "cell_type": "code",
      "metadata": {
        "id": "dNB09vPae2I_",
        "colab_type": "code",
        "colab": {}
      },
      "source": [
        "df=pd.read_csv(DATA_FILE)\n",
        "\n",
        "Category=Encoder\n",
        "\n",
        "df=updateDf(df,Category.SeverityEncoder(),Category.DefectTypeEncoder(),True)\n",
        "X_train, X_test, y_train, y_test = train_test_split(df, df['icat'], test_size=0.33, random_state=42)\n"
      ],
      "execution_count": 0,
      "outputs": []
    },
    {
      "cell_type": "code",
      "metadata": {
        "id": "th78hb4KgUqs",
        "colab_type": "code",
        "colab": {}
      },
      "source": [
        "\n",
        "target='iPriority'\n",
        "if(target=='Estimate'):\n",
        "  df=df[df['Estimate']<=4]\n",
        "  df=df[df['Estimate']>0]\n",
        "df=df[df[target]!=-1]\n",
        "X_train, X_test, y_train, y_test = train_test_split(df, df[target], test_size=0.33, random_state=42)\n",
        "nb_Trans=NB()\n",
        "\n",
        "\n",
        "#convert test procedure into step\n",
        "trn_term_doc = nb_Trans.fit_transform(X_train['Repro Steps'],y_train.values)\n",
        "test_term_doc=nb_Trans.transform(X_test['Repro Steps'])"
      ],
      "execution_count": 0,
      "outputs": []
    },
    {
      "cell_type": "code",
      "metadata": {
        "id": "FNFg7eY0WX9s",
        "colab_type": "code",
        "colab": {}
      },
      "source": [
        "#convert subject data into step\n",
        "nb_title=NB()\n",
        "train_subject=nb_title.fit_transform(X_train['Title'],y_train.values)\n",
        "test_subject=nb_title.transform(X_test['Title'])\n"
      ],
      "execution_count": 0,
      "outputs": []
    },
    {
      "cell_type": "code",
      "metadata": {
        "id": "7T5Y3aUAXdsZ",
        "colab_type": "code",
        "colab": {}
      },
      "source": [
        "repro_labels=['repro-'+item for item in nb_Trans.vec.get_feature_names()]\n",
        "title_labels=['title-'+item for item in nb_title.vec.get_feature_names()]"
      ],
      "execution_count": 0,
      "outputs": []
    },
    {
      "cell_type": "code",
      "metadata": {
        "id": "7D2J9rM3X-gN",
        "colab_type": "code",
        "colab": {}
      },
      "source": [
        "categoryData_Train=np.array(X_train['iDefectType']).reshape(len(X_train['iDefectType']),1)\n",
        "\n",
        "categoryDataMatrix_Train=sparse.csr_matrix(categoryData_Train)\n",
        "\n",
        "categoryData_Test=np.array(X_test['iDefectType']).reshape(len(X_test['iDefectType']),1)\n",
        "categoryDataMatrix_Test=sparse.csr_matrix(categoryData_Test)"
      ],
      "execution_count": 0,
      "outputs": []
    },
    {
      "cell_type": "code",
      "metadata": {
        "id": "rpiPlMbGX_do",
        "colab_type": "code",
        "colab": {}
      },
      "source": [
        "categoryLabels=['iarea','iDefectType','iSubmitter']\n",
        "categoryData_Train=X_train[categoryLabels].astype('float').values\n",
        "categoryDataMatrix_Train=sparse.csr_matrix(categoryData_Train)\n",
        "\n",
        "categoryData_Test=X_test[categoryLabels].astype('float').values\n",
        "categoryDataMatrix_Test=sparse.csr_matrix(categoryData_Test)"
      ],
      "execution_count": 0,
      "outputs": []
    },
    {
      "cell_type": "code",
      "metadata": {
        "id": "jNDG3LchYETl",
        "colab_type": "code",
        "colab": {}
      },
      "source": [
        "#combine input dataset together\n",
        "train_input=sparse.hstack([categoryData_Train,trn_term_doc,train_subject])\n",
        "train_input=train_input.tocsr()\n",
        "test_input=sparse.hstack([categoryDataMatrix_Test,test_term_doc,test_subject])\n"
      ],
      "execution_count": 0,
      "outputs": []
    },
    {
      "cell_type": "code",
      "metadata": {
        "id": "Ix9Uk8_QHRzD",
        "colab_type": "code",
        "colab": {}
      },
      "source": [
        "\n",
        "# #k-fold is able to improve accuracy by 0.5%...\n",
        "# kf = StratifiedKFold(n_splits=5, shuffle=True)\n",
        "# predicts=[]\n",
        "# feature_name=(np.concatenate((categoryLabels,repro_labels,title_labels))).tolist()\n",
        "\n",
        "# for train_index, valid_index in kf.split(train_input,y_train):  \n",
        "  \n",
        "#   kf_train_x=train_input[train_index]\n",
        "#   kf_valid_x=train_input[valid_index]\n",
        "#   kf_train_y=y_train.iloc[train_index]\n",
        "#   kf_valid_y=y_train.iloc[valid_index]\n",
        "#   gbm=get_model(feature_name,kf_train_x,kf_train_y,kf_valid_x,kf_valid_y)\n",
        "  \n",
        "#   predicts.append(gbm.predict(test_input))\n",
        "\n",
        "# y_pred=[np.argmax(item) for item in np.array(predicts).mean(axis=0)]\n",
        "# accuracy_score(y_test, y_pred)\n"
      ],
      "execution_count": 0,
      "outputs": []
    },
    {
      "cell_type": "code",
      "metadata": {
        "id": "P7B177UcrXwg",
        "colab_type": "code",
        "colab": {}
      },
      "source": [
        "def get_model(feature_name,train_input,y_train,test_input,y_test):\n",
        "\n",
        "  lgb_train = lgb.Dataset(train_input,y_train,feature_name=feature_name,categorical_feature=[0,1,2])\n",
        "  lgb_test = lgb.Dataset(test_input, y_test, reference=lgb_train)\n",
        "\n",
        "\n",
        "  params = {\n",
        "      'num_leaves': 60,\n",
        "      'metric': ('multi_logloss'),\n",
        "      'verbose': 0,\n",
        "      'learning_rate': 0.05,\n",
        "      'objective':'multiclass',\n",
        "      'max_depth':25,\n",
        "      # 'num_boost_round':500,\n",
        "      'num_boost_round':200,\n",
        "      'device_type':'cpu',\n",
        "      'num_class':len(df[target].unique())+1,    \n",
        "  }\n",
        "  evals_result = {} \n",
        "  gbm = lgb.train(params,lgb_train,valid_sets=[lgb_train,lgb_test],evals_result=evals_result,verbose_eval=10,early_stopping_rounds=20)\n",
        "\n",
        "  return gbm"
      ],
      "execution_count": 0,
      "outputs": []
    },
    {
      "cell_type": "code",
      "metadata": {
        "id": "VvxtyzTWoJwi",
        "colab_type": "code",
        "outputId": "256f1764-1b46-4b4e-94d2-5f4f5b55aa9a",
        "colab": {
          "base_uri": "https://localhost:8080/",
          "height": 476
        }
      },
      "source": [
        "feature_name=(np.concatenate((categoryLabels,repro_labels,title_labels))).tolist()\n",
        "gbm=get_model(feature_name,train_input,y_train,test_input,y_test)\n",
        "pre=gbm.predict(test_input)\n",
        "y_pred=[np.argmax(item) for item in pre]\n",
        "accu_score= accuracy_score(y_test, y_pred)\n",
        "print('Accuracy score is {}'.format(accu_score))\n",
        "accu_score= mean_absolute_error(y_test, y_pred)\n",
        "print('mean absolute error is {}'.format(accu_score))\n",
        "y_pred1=y_pred"
      ],
      "execution_count": 0,
      "outputs": [
        {
          "output_type": "stream",
          "text": [
            "/usr/local/lib/python3.6/dist-packages/lightgbm/engine.py:118: UserWarning: Found `num_boost_round` in params. Will use it instead of argument\n",
            "  warnings.warn(\"Found `{}` in params. Will use it instead of argument\".format(alias))\n",
            "/usr/local/lib/python3.6/dist-packages/lightgbm/basic.py:1205: UserWarning: Using categorical_feature in Dataset.\n",
            "  warnings.warn('Using categorical_feature in Dataset.')\n",
            "/usr/local/lib/python3.6/dist-packages/lightgbm/basic.py:1209: UserWarning: categorical_feature in Dataset is overridden.\n",
            "New categorical_feature is [0, 1, 2]\n",
            "  'New categorical_feature is {}'.format(sorted(list(categorical_feature))))\n",
            "/usr/local/lib/python3.6/dist-packages/lightgbm/basic.py:762: UserWarning: categorical_feature in param dict is overridden.\n",
            "  warnings.warn('categorical_feature in param dict is overridden.')\n"
          ],
          "name": "stderr"
        },
        {
          "output_type": "stream",
          "text": [
            "Training until validation scores don't improve for 20 rounds.\n",
            "[10]\ttraining's multi_logloss: 0.998021\tvalid_1's multi_logloss: 1.05329\n",
            "[20]\ttraining's multi_logloss: 0.886392\tvalid_1's multi_logloss: 1.00223\n",
            "[30]\ttraining's multi_logloss: 0.804801\tvalid_1's multi_logloss: 0.973285\n",
            "[40]\ttraining's multi_logloss: 0.73833\tvalid_1's multi_logloss: 0.954935\n",
            "[50]\ttraining's multi_logloss: 0.682509\tvalid_1's multi_logloss: 0.94243\n",
            "[60]\ttraining's multi_logloss: 0.635131\tvalid_1's multi_logloss: 0.935631\n",
            "[70]\ttraining's multi_logloss: 0.595347\tvalid_1's multi_logloss: 0.932873\n",
            "[80]\ttraining's multi_logloss: 0.55957\tvalid_1's multi_logloss: 0.931126\n",
            "[90]\ttraining's multi_logloss: 0.52896\tvalid_1's multi_logloss: 0.929888\n",
            "[100]\ttraining's multi_logloss: 0.502233\tvalid_1's multi_logloss: 0.929944\n",
            "[110]\ttraining's multi_logloss: 0.478\tvalid_1's multi_logloss: 0.930794\n",
            "Early stopping, best iteration is:\n",
            "[93]\ttraining's multi_logloss: 0.520939\tvalid_1's multi_logloss: 0.92973\n"
          ],
          "name": "stdout"
        },
        {
          "output_type": "stream",
          "text": [
            "/usr/local/lib/python3.6/dist-packages/lightgbm/basic.py:478: UserWarning: Converting data to scipy sparse matrix.\n",
            "  warnings.warn('Converting data to scipy sparse matrix.')\n"
          ],
          "name": "stderr"
        },
        {
          "output_type": "stream",
          "text": [
            "Accuracy score is 0.5956916099773243\n",
            "mean absolute error is 0.4494331065759637\n"
          ],
          "name": "stdout"
        }
      ]
    },
    {
      "cell_type": "code",
      "metadata": {
        "id": "4XNqO5iSlrdu",
        "colab_type": "code",
        "colab": {}
      },
      "source": [
        "imp_df = pd.DataFrame()\n",
        "imp_df['feature_name']=gbm.feature_name()\n",
        "imp_df['split_importance']=gbm.feature_importance('split')\n",
        "imp_df['gain_importance']=gbm.feature_importance('gain')\n",
        "\n"
      ],
      "execution_count": 0,
      "outputs": []
    },
    {
      "cell_type": "code",
      "metadata": {
        "id": "ZoZ-xj4T288U",
        "colab_type": "code",
        "colab": {}
      },
      "source": [
        "\n",
        "\n",
        "# ax = lgb.plot_importance(gbm, max_num_features=10,importance_type='split')\n",
        "# plt.show()\n",
        "\n",
        "# ax = lgb.plot_importance(gbm, max_num_features=50,importance_type='gain',figsize=(20,20))\n",
        "# plt.show()\n",
        "\n",
        "# print('Plotting 54th tree...')  # one tree use categorical feature to split\n",
        "\n",
        "# lgb.create_tree_digraph(gbm,tree_index=0)\n",
        "# ax = lgb.plot_tree(gbm, tree_index=30, figsize=(300, 300), show_info=['split_gain'])\n",
        "# plt.show()\n"
      ],
      "execution_count": 0,
      "outputs": []
    },
    {
      "cell_type": "code",
      "metadata": {
        "id": "I9IOFrVjYGEt",
        "colab_type": "code",
        "cellView": "code",
        "outputId": "957bc897-446d-4aec-d179-46d9836c2748",
        "colab": {
          "base_uri": "https://localhost:8080/",
          "height": 340
        }
      },
      "source": [
        "#@title Default title text\n",
        "lgb_train = lgb.Dataset(train_input,y_train)\n",
        "lgb_test = lgb.Dataset(test_input, y_test, reference=lgb_train)\n",
        "feature_name=(np.concatenate((categoryLabels,repro_labels,title_labels))).tolist()\n",
        "\n",
        "params = {\n",
        "    'num_leaves': 60,\n",
        "    'metric': ('mse'),\n",
        "    'verbose': 0,\n",
        "    'learning_rate': 0.01,\n",
        "    'objective':'regression',\n",
        "    'max_depth':25,\n",
        "    # 'num_boost_round':500,\n",
        "    'num_boost_round':500,\n",
        "    'device_type':'cpu',\n",
        "    'categorical_feature':[0,1,2],    \n",
        "    # 'feature_name:':feature_name\n",
        "}\n",
        "evals_result = {} \n",
        "gbm = lgb.train(params,lgb_train,valid_sets=[lgb_train,lgb_test],evals_result=evals_result,verbose_eval=50)\n",
        "\n",
        "accu_score= mean_absolute_error(y_test, y_pred)\n",
        "print('mean absolute error is {}'.format(accu_score))\n",
        "\n",
        "y_pred=np.round(gbm.predict(test_input))\n",
        "accu_score= accuracy_score(y_test, y_pred)\n",
        "print('Accuracy score is {}'.format(accu_score))"
      ],
      "execution_count": 0,
      "outputs": [
        {
          "output_type": "stream",
          "text": [
            "/usr/local/lib/python3.6/dist-packages/lightgbm/engine.py:118: UserWarning: Found `num_boost_round` in params. Will use it instead of argument\n",
            "  warnings.warn(\"Found `{}` in params. Will use it instead of argument\".format(alias))\n",
            "/usr/local/lib/python3.6/dist-packages/lightgbm/basic.py:741: UserWarning: categorical_feature keyword has been found in `params` and will be ignored.\n",
            "Please use categorical_feature argument of the Dataset constructor to pass this parameter.\n",
            "  .format(key))\n"
          ],
          "name": "stderr"
        },
        {
          "output_type": "stream",
          "text": [
            "[50]\ttraining's l2: 0.494969\tvalid_1's l2: 0.498321\n",
            "[100]\ttraining's l2: 0.419932\tvalid_1's l2: 0.452811\n",
            "[150]\ttraining's l2: 0.374461\tvalid_1's l2: 0.434204\n",
            "[200]\ttraining's l2: 0.340618\tvalid_1's l2: 0.425517\n",
            "[250]\ttraining's l2: 0.313844\tvalid_1's l2: 0.420549\n",
            "[300]\ttraining's l2: 0.292312\tvalid_1's l2: 0.41781\n",
            "[350]\ttraining's l2: 0.275727\tvalid_1's l2: 0.416627\n",
            "[400]\ttraining's l2: 0.261463\tvalid_1's l2: 0.415844\n",
            "[450]\ttraining's l2: 0.249999\tvalid_1's l2: 0.415359\n",
            "[500]\ttraining's l2: 0.239822\tvalid_1's l2: 0.415533\n",
            "mean absolute error is 0.4494331065759637\n"
          ],
          "name": "stdout"
        },
        {
          "output_type": "stream",
          "text": [
            "/usr/local/lib/python3.6/dist-packages/lightgbm/basic.py:478: UserWarning: Converting data to scipy sparse matrix.\n",
            "  warnings.warn('Converting data to scipy sparse matrix.')\n"
          ],
          "name": "stderr"
        },
        {
          "output_type": "stream",
          "text": [
            "Accuracy score is 0.5891156462585034\n"
          ],
          "name": "stdout"
        }
      ]
    },
    {
      "cell_type": "code",
      "metadata": {
        "id": "AWTdlO1tqKHp",
        "colab_type": "code",
        "outputId": "f75416e9-b361-468c-bf85-d14d53a7f5bc",
        "colab": {
          "base_uri": "https://localhost:8080/",
          "height": 320
        }
      },
      "source": [
        "import matplotlib.pyplot as plt\n",
        "import numpy as np\n",
        "%matplotlib inline\n",
        "\n",
        "plt.hist([y_pred,y_pred1,y_test], normed=True, bins=20,alpha=0.5,label=['pred','y_pred1','test'])\n",
        "\n",
        "plt.ylabel('Probability');\n",
        "plt.legend(loc='upper right')\n",
        "plt.show()"
      ],
      "execution_count": 0,
      "outputs": [
        {
          "output_type": "stream",
          "text": [
            "/usr/local/lib/python3.6/dist-packages/matplotlib/axes/_axes.py:6521: MatplotlibDeprecationWarning: \n",
            "The 'normed' kwarg was deprecated in Matplotlib 2.1 and will be removed in 3.1. Use 'density' instead.\n",
            "  alternative=\"'density'\", removal=\"3.1\")\n"
          ],
          "name": "stderr"
        },
        {
          "output_type": "display_data",
          "data": {
            "image/png": "[encoded data removed]",
            "text/plain": [
              "<Figure size 432x288 with 1 Axes>"
            ]
          },
          "metadata": {
            "tags": []
          }
        }
      ]
    },
    {
      "cell_type": "code",
      "metadata": {
        "id": "YzXPkC72pBOW",
        "colab_type": "code",
        "outputId": "90151928-d8ff-49e6-a992-339b6a0f2ac7",
        "colab": {
          "base_uri": "https://localhost:8080/",
          "height": 619
        }
      },
      "source": [
        "print('Plotting metrics recorded during training...')\n",
        "ax = lgb.plot_metric(evals_result, metric='l1')\n",
        "plt.show()\n",
        "\n",
        "print('Plotting feature importances...')\n",
        "ax = lgb.plot_importance(gbm, max_num_features=10)\n",
        "plt.show()\n",
        "\n",
        "print('Plotting split value histogram...')\n",
        "ax = lgb.plot_split_value_histogram(gbm, feature='f26', bins='auto')\n",
        "plt.show()\n",
        "\n",
        "print('Plotting 54th tree...')  # one tree use categorical feature to split\n",
        "ax = lgb.plot_tree(gbm, tree_index=53, figsize=(15, 15), show_info=['split_gain'])\n",
        "plt.show()\n",
        "\n",
        "print('Plotting 54th tree with graphviz...')\n",
        "graph = lgb.create_tree_digraph(gbm, tree_index=53, name='Tree54')\n",
        "graph.render(view=True)"
      ],
      "execution_count": 0,
      "outputs": [
        {
          "output_type": "stream",
          "text": [
            "Plotting metrics recorded during training...\n"
          ],
          "name": "stdout"
        },
        {
          "output_type": "error",
          "ename": "KeyError",
          "evalue": "ignored",
          "traceback": [
            "\u001b[0;31m---------------------------------------------------------------------------\u001b[0m",
            "\u001b[0;31mKeyError\u001b[0m                                  Traceback (most recent call last)",
            "\u001b[0;32m<ipython-input-22-59e7f2a13d6d>\u001b[0m in \u001b[0;36m<module>\u001b[0;34m()\u001b[0m\n\u001b[1;32m      1\u001b[0m \u001b[0mprint\u001b[0m\u001b[0;34m(\u001b[0m\u001b[0;34m'Plotting metrics recorded during training...'\u001b[0m\u001b[0;34m)\u001b[0m\u001b[0;34m\u001b[0m\u001b[0;34m\u001b[0m\u001b[0m\n\u001b[0;32m----> 2\u001b[0;31m \u001b[0max\u001b[0m \u001b[0;34m=\u001b[0m \u001b[0mlgb\u001b[0m\u001b[0;34m.\u001b[0m\u001b[0mplot_metric\u001b[0m\u001b[0;34m(\u001b[0m\u001b[0mevals_result\u001b[0m\u001b[0;34m,\u001b[0m \u001b[0mmetric\u001b[0m\u001b[0;34m=\u001b[0m\u001b[0;34m'l1'\u001b[0m\u001b[0;34m)\u001b[0m\u001b[0;34m\u001b[0m\u001b[0;34m\u001b[0m\u001b[0m\n\u001b[0m\u001b[1;32m      3\u001b[0m \u001b[0mplt\u001b[0m\u001b[0;34m.\u001b[0m\u001b[0mshow\u001b[0m\u001b[0;34m(\u001b[0m\u001b[0;34m)\u001b[0m\u001b[0;34m\u001b[0m\u001b[0;34m\u001b[0m\u001b[0m\n\u001b[1;32m      4\u001b[0m \u001b[0;34m\u001b[0m\u001b[0m\n\u001b[1;32m      5\u001b[0m \u001b[0mprint\u001b[0m\u001b[0;34m(\u001b[0m\u001b[0;34m'Plotting feature importances...'\u001b[0m\u001b[0;34m)\u001b[0m\u001b[0;34m\u001b[0m\u001b[0;34m\u001b[0m\u001b[0m\n",
            "\u001b[0;32m/usr/local/lib/python3.6/dist-packages/lightgbm/plotting.py\u001b[0m in \u001b[0;36mplot_metric\u001b[0;34m(booster, metric, dataset_names, ax, xlim, ylim, title, xlabel, ylabel, figsize, grid)\u001b[0m\n\u001b[1;32m    226\u001b[0m     \u001b[0;32melse\u001b[0m\u001b[0;34m:\u001b[0m\u001b[0;34m\u001b[0m\u001b[0;34m\u001b[0m\u001b[0m\n\u001b[1;32m    227\u001b[0m         \u001b[0;32mif\u001b[0m \u001b[0mmetric\u001b[0m \u001b[0;32mnot\u001b[0m \u001b[0;32min\u001b[0m \u001b[0mmetrics_for_one\u001b[0m\u001b[0;34m:\u001b[0m\u001b[0;34m\u001b[0m\u001b[0;34m\u001b[0m\u001b[0m\n\u001b[0;32m--> 228\u001b[0;31m             \u001b[0;32mraise\u001b[0m \u001b[0mKeyError\u001b[0m\u001b[0;34m(\u001b[0m\u001b[0;34m'No given metric in eval results.'\u001b[0m\u001b[0;34m)\u001b[0m\u001b[0;34m\u001b[0m\u001b[0;34m\u001b[0m\u001b[0m\n\u001b[0m\u001b[1;32m    229\u001b[0m         \u001b[0mresults\u001b[0m \u001b[0;34m=\u001b[0m \u001b[0mmetrics_for_one\u001b[0m\u001b[0;34m[\u001b[0m\u001b[0mmetric\u001b[0m\u001b[0;34m]\u001b[0m\u001b[0;34m\u001b[0m\u001b[0;34m\u001b[0m\u001b[0m\n\u001b[1;32m    230\u001b[0m     \u001b[0mnum_iteration\u001b[0m\u001b[0;34m,\u001b[0m \u001b[0mmax_result\u001b[0m\u001b[0;34m,\u001b[0m \u001b[0mmin_result\u001b[0m \u001b[0;34m=\u001b[0m \u001b[0mlen\u001b[0m\u001b[0;34m(\u001b[0m\u001b[0mresults\u001b[0m\u001b[0;34m)\u001b[0m\u001b[0;34m,\u001b[0m \u001b[0mmax\u001b[0m\u001b[0;34m(\u001b[0m\u001b[0mresults\u001b[0m\u001b[0;34m)\u001b[0m\u001b[0;34m,\u001b[0m \u001b[0mmin\u001b[0m\u001b[0;34m(\u001b[0m\u001b[0mresults\u001b[0m\u001b[0;34m)\u001b[0m\u001b[0;34m\u001b[0m\u001b[0;34m\u001b[0m\u001b[0m\n",
            "\u001b[0;31mKeyError\u001b[0m: 'No given metric in eval results.'"
          ]
        },
        {
          "output_type": "display_data",
          "data": {
            "image/png": "[encoded data removed]",
            "text/plain": [
              "<Figure size 432x288 with 1 Axes>"
            ]
          },
          "metadata": {
            "tags": []
          }
        }
      ]
    },
    {
      "cell_type": "code",
      "metadata": {
        "id": "EFtYdkJSm8Ng",
        "colab_type": "code",
        "colab": {}
      },
      "source": [
        "# from google.colab import files\n",
        "\n",
        "# uploaded = files.upload()\n",
        "!ls\n",
        "#!mv './Aspen Plus Defect Priority Query.csv' 'AES.csv'\n",
        "#!mv ./*.csv ./gdrive/'My Drive'/data"
      ],
      "execution_count": 0,
      "outputs": []
    }
  ]
}